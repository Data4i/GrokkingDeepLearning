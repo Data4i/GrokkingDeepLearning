{
 "cells": [
  {
   "cell_type": "code",
   "execution_count": 1,
   "metadata": {},
   "outputs": [],
   "source": [
    "import numpy as np"
   ]
  },
  {
   "cell_type": "code",
   "execution_count": 2,
   "metadata": {},
   "outputs": [],
   "source": [
    "def neural_network(inputs, weights):\n",
    "    return inputs.dot(weights)\n",
    "\n",
    "toes = np.array([8.5, 9.5, 9.9, 9.0])\n",
    "wirec = np.array([0.65, 0.8, 0.8, 0.9])\n",
    "nfans = np.array([1.2, 1.3, 0.5, 1.0])\n",
    "\n",
    "target = [1,1,0,1]\n",
    "\n",
    "true = target[0]\n"
   ]
  },
  {
   "cell_type": "code",
   "execution_count": 9,
   "metadata": {},
   "outputs": [
    {
     "name": "stdout",
     "output_type": "stream",
     "text": [
      "Epoch: 0, MSE Error: 0.01959999999999997, Prediction: 0.8600000000000001\n",
      "Epoch: 1, MSE Error: 0.0013135188062500048, Prediction: 0.9637574999999999\n",
      "Epoch: 2, MSE Error: 8.802712522307997e-05, Prediction: 0.9906177228125002\n",
      "Epoch: 3, MSE Error: 5.899249206154892e-06, Prediction: 0.997571162993086\n",
      "Epoch: 4, MSE Error: 3.953456517877471e-07, Prediction: 0.9993712348198351\n"
     ]
    }
   ],
   "source": [
    "alpha = 1e-2\n",
    "weights = np.array([0.1, 0.2, -0.1])\n",
    "inputs =np.array([toes[0], wirec[0], nfans[0]])\n",
    "\n",
    "for i in range(5):\n",
    "    pred = neural_network(inputs, weights.T)\n",
    "    error = (pred-true) **2\n",
    "    delta = pred-true\n",
    "    weight_deltas = delta * inputs\n",
    "    \n",
    "    weights -= (weight_deltas * alpha)\n",
    "    \n",
    "    print(f'Epoch: {i}, MSE Error: {error}, Prediction: {pred}')\n",
    "\n",
    "    "
   ]
  },
  {
   "cell_type": "code",
   "execution_count": 11,
   "metadata": {},
   "outputs": [
    {
     "name": "stdout",
     "output_type": "stream",
     "text": [
      "Epoch: 0, MSE Error: 0.01959999999999997, Prediction: 0.8600000000000001\n",
      "Epoch: 1, MSE Error: 0.018876699056249977, Prediction: 0.8626075000000001\n",
      "Epoch: 2, MSE Error: 0.018180090166338207, Prediction: 0.8651664353125001\n",
      "Epoch: 3, MSE Error: 0.017509188310482475, Prediction: 0.8676777104548048\n",
      "Epoch: 4, MSE Error: 0.016863044819193287, Prediction: 0.870142213097584\n"
     ]
    }
   ],
   "source": [
    "alpha = 1e-2\n",
    "weights = np.array([0.1, 0.2, -0.1])\n",
    "inputs =np.array([toes[0], wirec[0], nfans[0]])\n",
    "\n",
    "for i in range(5):\n",
    "    pred = neural_network(inputs, weights.T)\n",
    "    error = (pred-true) **2\n",
    "    delta = pred-true\n",
    "    weight_deltas = delta * inputs\n",
    "    weight_deltas[0] = 0\n",
    "    \n",
    "    weights -= (weight_deltas * alpha)\n",
    "    \n",
    "    print(f'Epoch: {i}, MSE Error: {error}, Prediction: {pred}')"
   ]
  },
  {
   "cell_type": "code",
   "execution_count": 5,
   "metadata": {},
   "outputs": [
    {
     "data": {
      "text/plain": [
       "((3,), (3,))"
      ]
     },
     "execution_count": 5,
     "metadata": {},
     "output_type": "execute_result"
    }
   ],
   "source": [
    "inputs.shape, weights.shape"
   ]
  },
  {
   "cell_type": "code",
   "execution_count": 7,
   "metadata": {},
   "outputs": [
    {
     "data": {
      "text/plain": [
       "0.8725608143786415"
      ]
     },
     "execution_count": 7,
     "metadata": {},
     "output_type": "execute_result"
    }
   ],
   "source": [
    "inputs.dot(weights.T)"
   ]
  },
  {
   "cell_type": "code",
   "execution_count": 12,
   "metadata": {},
   "outputs": [
    {
     "data": {
      "text/plain": [
       "array([ 0.1       ,  0.20438364, -0.09190713])"
      ]
     },
     "execution_count": 12,
     "metadata": {},
     "output_type": "execute_result"
    }
   ],
   "source": [
    "weights"
   ]
  },
  {
   "cell_type": "code",
   "execution_count": null,
   "metadata": {},
   "outputs": [],
   "source": []
  }
 ],
 "metadata": {
  "kernelspec": {
   "display_name": "Python 3 (ipykernel)",
   "language": "python",
   "name": "python3"
  },
  "language_info": {
   "codemirror_mode": {
    "name": "ipython",
    "version": 3
   },
   "file_extension": ".py",
   "mimetype": "text/x-python",
   "name": "python",
   "nbconvert_exporter": "python",
   "pygments_lexer": "ipython3",
   "version": "3.10.12"
  }
 },
 "nbformat": 4,
 "nbformat_minor": 4
}
