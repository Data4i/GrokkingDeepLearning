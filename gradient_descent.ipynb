{
 "cells": [
  {
   "cell_type": "markdown",
   "metadata": {},
   "source": [
    "# Hot and Cold Learning"
   ]
  },
  {
   "cell_type": "code",
   "execution_count": 2,
   "metadata": {},
   "outputs": [
    {
     "name": "stdout",
     "output_type": "stream",
     "text": [
      "Epoch: 0, MSE Error: 0.30250000000000005, Prediction: 0.25\n",
      "Epoch: 100, MSE Error: 0.25, Prediction: 0.30000000000000004\n",
      "Epoch: 200, MSE Error: 0.20249999999999996, Prediction: 0.3500000000000001\n",
      "Epoch: 300, MSE Error: 0.15999999999999992, Prediction: 0.40000000000000013\n",
      "Epoch: 400, MSE Error: 0.1224999999999999, Prediction: 0.4500000000000002\n",
      "Epoch: 500, MSE Error: 0.0899999999999999, Prediction: 0.5000000000000002\n",
      "Epoch: 600, MSE Error: 0.06250000000000266, Prediction: 0.5499999999999947\n",
      "Epoch: 700, MSE Error: 0.04000000000000434, Prediction: 0.5999999999999892\n",
      "Epoch: 800, MSE Error: 0.0225000000000049, Prediction: 0.6499999999999837\n",
      "Epoch: 900, MSE Error: 0.01000000000000437, Prediction: 0.6999999999999782\n",
      "Epoch: 1000, MSE Error: 0.0025000000000027357, Prediction: 0.7499999999999727\n",
      "Epoch: 1100, MSE Error: 1.0799505792475652e-27, Prediction: 0.7999999999999672\n"
     ]
    }
   ],
   "source": [
    "weight = 0.5\n",
    "input = 0.5\n",
    "goal_prediction = 0.8\n",
    "\n",
    "step_amount = 0.001\n",
    "\n",
    "for i in range(1101):\n",
    "    prediction = input * weight\n",
    "    error = (prediction - goal_prediction) **2\n",
    "    \n",
    "    if i % 100 == 0:\n",
    "        print(f'Epoch: {i}, MSE Error: {error}, Prediction: {prediction}')\n",
    "        \n",
    "    up_prediction = input * (weight + step_amount)\n",
    "    up_error = (goal_prediction - up_prediction) **2\n",
    "    \n",
    "    down_prediciton = input * (weight - step_amount)\n",
    "    down_error = (down_prediciton - goal_prediction) **2\n",
    "    \n",
    "    if (down_error < up_error):\n",
    "        weight = weight - step_amount\n",
    "        \n",
    "    if (down_error > up_error):\n",
    "        weight += step_amount"
   ]
  },
  {
   "cell_type": "code",
   "execution_count": 3,
   "metadata": {},
   "outputs": [
    {
     "data": {
      "text/plain": [
       "0.7999999999999672"
      ]
     },
     "execution_count": 3,
     "metadata": {},
     "output_type": "execute_result"
    }
   ],
   "source": [
    "prediction"
   ]
  },
  {
   "cell_type": "markdown",
   "metadata": {},
   "source": [
    "# Gradient Descent"
   ]
  },
  {
   "cell_type": "code",
   "execution_count": 11,
   "metadata": {},
   "outputs": [
    {
     "name": "stdout",
     "output_type": "stream",
     "text": [
      "Epoch: 0, MSE Error: 0.30250, Prediction: 0.25000\n",
      "Epoch: 1, MSE Error: 0.17016, Prediction: 0.38750\n",
      "Epoch: 2, MSE Error: 0.09571, Prediction: 0.49063\n",
      "Epoch: 3, MSE Error: 0.05384, Prediction: 0.56797\n",
      "Epoch: 4, MSE Error: 0.03028, Prediction: 0.62598\n",
      "Epoch: 5, MSE Error: 0.01703, Prediction: 0.66948\n",
      "Epoch: 6, MSE Error: 0.00958, Prediction: 0.70211\n",
      "Epoch: 7, MSE Error: 0.00539, Prediction: 0.72658\n",
      "Epoch: 8, MSE Error: 0.00303, Prediction: 0.74494\n",
      "Epoch: 9, MSE Error: 0.00171, Prediction: 0.75870\n",
      "Epoch: 10, MSE Error: 0.00096, Prediction: 0.76903\n",
      "Epoch: 11, MSE Error: 0.00054, Prediction: 0.77677\n",
      "Epoch: 12, MSE Error: 0.00030, Prediction: 0.78258\n",
      "Epoch: 13, MSE Error: 0.00017, Prediction: 0.78693\n",
      "Epoch: 14, MSE Error: 0.00010, Prediction: 0.79020\n",
      "Epoch: 15, MSE Error: 0.00005, Prediction: 0.79265\n",
      "Epoch: 16, MSE Error: 0.00003, Prediction: 0.79449\n",
      "Epoch: 17, MSE Error: 0.00002, Prediction: 0.79587\n",
      "Epoch: 18, MSE Error: 0.00001, Prediction: 0.79690\n",
      "Epoch: 19, MSE Error: 0.00001, Prediction: 0.79767\n"
     ]
    }
   ],
   "source": [
    "weight = 0.5\n",
    "input = 0.5\n",
    "goal_prediction = 0.8\n",
    "\n",
    "def basic_gradient_descent(input, weight, goal_prediction):\n",
    "    for i in range(20):\n",
    "        pred = input * weight\n",
    "        error = (pred - goal_prediction) **2\n",
    "        delta = pred - goal_prediction\n",
    "        weight_delta = delta * input\n",
    "        weight -= weight_delta\n",
    "\n",
    "        print(f'Epoch: {i}, MSE Error: {error:.5f}, Prediction: {pred:.5f}')\n",
    "    \n",
    "basic_gradient_descent(input, weight, goal_prediction)\n"
   ]
  },
  {
   "cell_type": "code",
   "execution_count": 13,
   "metadata": {},
   "outputs": [
    {
     "name": "stdout",
     "output_type": "stream",
     "text": [
      "Epoch: 0, MSE Error: 0.04000, Prediction: 1.00000\n",
      "Epoch: 1, MSE Error: 0.36000, Prediction: 0.20000\n",
      "Epoch: 2, MSE Error: 3.24000, Prediction: 2.60000\n",
      "Epoch: 3, MSE Error: 29.16000, Prediction: -4.60000\n",
      "Epoch: 4, MSE Error: 262.44000, Prediction: 17.00000\n",
      "Epoch: 5, MSE Error: 2361.96000, Prediction: -47.80000\n",
      "Epoch: 6, MSE Error: 21257.64000, Prediction: 146.60000\n",
      "Epoch: 7, MSE Error: 191318.76000, Prediction: -436.60000\n",
      "Epoch: 8, MSE Error: 1721868.84000, Prediction: 1313.00000\n",
      "Epoch: 9, MSE Error: 15496819.56000, Prediction: -3935.80000\n",
      "Epoch: 10, MSE Error: 139471376.04000, Prediction: 11810.60000\n",
      "Epoch: 11, MSE Error: 1255242384.36000, Prediction: -35428.60000\n",
      "Epoch: 12, MSE Error: 11297181459.24000, Prediction: 106289.00000\n",
      "Epoch: 13, MSE Error: 101674633133.15994, Prediction: -318863.80000\n",
      "Epoch: 14, MSE Error: 915071698198.43945, Prediction: 956594.60000\n",
      "Epoch: 15, MSE Error: 8235645283785.95410, Prediction: -2869780.60000\n",
      "Epoch: 16, MSE Error: 74120807554073.56250, Prediction: 8609345.00000\n",
      "Epoch: 17, MSE Error: 667087267986662.12500, Prediction: -25828031.80000\n",
      "Epoch: 18, MSE Error: 6003785411879960.00000, Prediction: 77484098.60000\n",
      "Epoch: 19, MSE Error: 54034068706919648.00000, Prediction: -232452292.60000\n"
     ]
    }
   ],
   "source": [
    "input = 2\n",
    "basic_gradient_descent(input = input, weight= weight, goal_prediction=goal_prediction)"
   ]
  },
  {
   "cell_type": "markdown",
   "metadata": {},
   "source": [
    "# Introducing Alpha"
   ]
  },
  {
   "cell_type": "code",
   "execution_count": 14,
   "metadata": {},
   "outputs": [
    {
     "name": "stdout",
     "output_type": "stream",
     "text": [
      "Epoch: 0, MSE Error: 0.04000, Prediction: 1.00000\n",
      "Epoch: 1, MSE Error: 0.01440, Prediction: 0.92000\n",
      "Epoch: 2, MSE Error: 0.00518, Prediction: 0.87200\n",
      "Epoch: 3, MSE Error: 0.00187, Prediction: 0.84320\n",
      "Epoch: 4, MSE Error: 0.00067, Prediction: 0.82592\n",
      "Epoch: 5, MSE Error: 0.00024, Prediction: 0.81555\n",
      "Epoch: 6, MSE Error: 0.00009, Prediction: 0.80933\n",
      "Epoch: 7, MSE Error: 0.00003, Prediction: 0.80560\n",
      "Epoch: 8, MSE Error: 0.00001, Prediction: 0.80336\n",
      "Epoch: 9, MSE Error: 0.00000, Prediction: 0.80202\n",
      "Epoch: 10, MSE Error: 0.00000, Prediction: 0.80121\n",
      "Epoch: 11, MSE Error: 0.00000, Prediction: 0.80073\n",
      "Epoch: 12, MSE Error: 0.00000, Prediction: 0.80044\n",
      "Epoch: 13, MSE Error: 0.00000, Prediction: 0.80026\n",
      "Epoch: 14, MSE Error: 0.00000, Prediction: 0.80016\n",
      "Epoch: 15, MSE Error: 0.00000, Prediction: 0.80009\n",
      "Epoch: 16, MSE Error: 0.00000, Prediction: 0.80006\n",
      "Epoch: 17, MSE Error: 0.00000, Prediction: 0.80003\n",
      "Epoch: 18, MSE Error: 0.00000, Prediction: 0.80002\n",
      "Epoch: 19, MSE Error: 0.00000, Prediction: 0.80001\n"
     ]
    }
   ],
   "source": [
    "weight = 0.5\n",
    "goal_pred = 0.8\n",
    "input = 2\n",
    "alpha = 0.1\n",
    "\n",
    "for i in range(20):\n",
    "    pred = input * weight\n",
    "    error = (pred - goal_pred) **2\n",
    "    derivative = (pred - goal_pred) * input\n",
    "    weight -= (derivative * alpha)\n",
    "    \n",
    "    print(f'Epoch: {i}, MSE Error: {error:.5f}, Prediction: {pred:.5f}')\n",
    "    "
   ]
  },
  {
   "cell_type": "code",
   "execution_count": null,
   "metadata": {},
   "outputs": [],
   "source": []
  }
 ],
 "metadata": {
  "kernelspec": {
   "display_name": "Python 3 (ipykernel)",
   "language": "python",
   "name": "python3"
  },
  "language_info": {
   "codemirror_mode": {
    "name": "ipython",
    "version": 3
   },
   "file_extension": ".py",
   "mimetype": "text/x-python",
   "name": "python",
   "nbconvert_exporter": "python",
   "pygments_lexer": "ipython3",
   "version": "3.10.12"
  }
 },
 "nbformat": 4,
 "nbformat_minor": 4
}
